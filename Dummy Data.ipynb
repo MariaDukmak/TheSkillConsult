{
 "cells": [
  {
   "cell_type": "code",
   "execution_count": 1,
   "id": "566f6df1",
   "metadata": {},
   "outputs": [],
   "source": [
    "import random\n",
    "import pandas as pd\n",
    "import numpy as np\n",
    "import matplotlib.pyplot as plt\n",
    "import random"
   ]
  },
  {
   "cell_type": "markdown",
   "id": "9c3a4b7f",
   "metadata": {},
   "source": [
    "# Make dataframe with intial test scores for 1000 students"
   ]
  },
  {
   "cell_type": "code",
   "execution_count": 2,
   "id": "001f22fd",
   "metadata": {},
   "outputs": [],
   "source": [
    "medium_per_skill_1e = [5.85, 5.62, 5.3, 4.28, 3.33]"
   ]
  },
  {
   "cell_type": "code",
   "execution_count": 3,
   "id": "1764ec2d",
   "metadata": {},
   "outputs": [],
   "source": [
    "column_info = []\n",
    "for skill in range(0, len(medium_per_skill_1e)):\n",
    "    mu = medium_per_skill_1e[skill]\n",
    "    sigma = 0.5\n",
    "\n",
    "    data = np.random.randn(1000) * sigma + mu\n",
    "    \n",
    "    column_info.append(data)"
   ]
  },
  {
   "cell_type": "code",
   "execution_count": 4,
   "id": "1c0a24d5",
   "metadata": {},
   "outputs": [],
   "source": [
    "data = {'Cultural empathy first': column_info[0],\n",
    "        'Open-mindedness first': column_info[1],\n",
    "        'Social initiative first': column_info[2],\n",
    "        'Emotional stability first': column_info[3],\n",
    "        'Flexibility first': column_info[4]\n",
    "        }\n",
    "\n",
    "#         'Cultural empathy second',\n",
    "#         'Open-mindedness second',\n",
    "#         'Social initiative second',\n",
    "#         'Emotional stability second',\n",
    "#         'Flexibility second'"
   ]
  },
  {
   "cell_type": "code",
   "execution_count": 5,
   "id": "c329c8e3",
   "metadata": {},
   "outputs": [
    {
     "name": "stdout",
     "output_type": "stream",
     "text": [
      "     Cultural empathy first  Open-mindedness first  Social initiative first  \\\n",
      "0                  6.373190               5.911279                 4.940518   \n",
      "1                  5.858898               5.681360                 5.437792   \n",
      "2                  5.742899               5.355306                 5.716681   \n",
      "3                  6.271836               5.927262                 5.229952   \n",
      "4                  5.273293               5.810953                 5.793367   \n",
      "..                      ...                    ...                      ...   \n",
      "995                5.557690               5.493863                 5.227717   \n",
      "996                5.051779               5.332792                 5.619924   \n",
      "997                6.664980               5.593179                 5.545538   \n",
      "998                5.638933               6.250332                 4.666359   \n",
      "999                6.621405               5.519851                 5.387243   \n",
      "\n",
      "     Emotional stability first  Flexibility first  \n",
      "0                     5.045765           2.613379  \n",
      "1                     4.209919           3.871495  \n",
      "2                     4.508414           2.600043  \n",
      "3                     5.228009           3.965329  \n",
      "4                     4.366199           3.686969  \n",
      "..                         ...                ...  \n",
      "995                   3.873615           3.893490  \n",
      "996                   4.317630           2.839430  \n",
      "997                   4.517226           3.275381  \n",
      "998                   3.560165           3.031291  \n",
      "999                   3.462333           3.211652  \n",
      "\n",
      "[1000 rows x 5 columns]\n"
     ]
    }
   ],
   "source": [
    "InitTests = pd.DataFrame(data)\n",
    "print(InitTests)"
   ]
  },
  {
   "cell_type": "markdown",
   "id": "e3d7d9a5",
   "metadata": {},
   "source": [
    "# Dataframe for second test"
   ]
  },
  {
   "cell_type": "code",
   "execution_count": 6,
   "id": "08e07f36",
   "metadata": {},
   "outputs": [],
   "source": [
    "actions = ['CCCC', 'PCSA', 'Blogging', 'Language courses', 'International Classroom', 'International (guest) lecturers', 'IVC', 'Extra-curricular Courses', 'IE']"
   ]
  },
  {
   "cell_type": "markdown",
   "id": "2b8ed558",
   "metadata": {},
   "source": [
    "# Make dataframe of personal information"
   ]
  },
  {
   "cell_type": "code",
   "execution_count": 7,
   "id": "2864e518",
   "metadata": {},
   "outputs": [],
   "source": [
    "genders = [random.choice(['Male', 'Female']) for i in range(0, 1000)]"
   ]
  },
  {
   "cell_type": "code",
   "execution_count": 8,
   "id": "135e6907",
   "metadata": {},
   "outputs": [],
   "source": [
    "age = [random.randrange(17, 25) for i in range(0, 1000)]"
   ]
  },
  {
   "cell_type": "code",
   "execution_count": 9,
   "id": "e5a452ed",
   "metadata": {},
   "outputs": [],
   "source": [
    "educations = ['VMBO', 'HAVO', 'VWO', 'Gymnasium']\n",
    "\n",
    "prior_educations = [random.choice(educations) for i in range(0, 1000)]"
   ]
  },
  {
   "cell_type": "code",
   "execution_count": 10,
   "id": "2859ba83",
   "metadata": {},
   "outputs": [],
   "source": [
    "studies = ['International business' for i in range(0, 1000)]"
   ]
  },
  {
   "cell_type": "code",
   "execution_count": 11,
   "id": "d0c8b7cc",
   "metadata": {},
   "outputs": [],
   "source": [
    "year_of_study = [0 for i in range(0, 1000)]"
   ]
  },
  {
   "cell_type": "code",
   "execution_count": 12,
   "id": "96e6604b",
   "metadata": {},
   "outputs": [],
   "source": [
    "nationalities = ['Dutch', 'British', 'German', 'Belgium', 'USA', 'South-African', 'Chinese', 'Japanese', 'Korean']\n",
    "\n",
    "nationality = [random.choice(nationalities) for i in range(0, 1000)]"
   ]
  },
  {
   "cell_type": "code",
   "execution_count": 13,
   "id": "386dd4ea",
   "metadata": {},
   "outputs": [],
   "source": [
    "occupations = ['Engineer', 'Marine', 'Politician', 'Life coach', 'Gardener', 'Taxi driver', 'Doctor', None]\n",
    "\n",
    "parent_occupations = [random.choice(occupations) for i in range(0, 1000)]"
   ]
  },
  {
   "cell_type": "code",
   "execution_count": 14,
   "id": "bf2e541f",
   "metadata": {},
   "outputs": [],
   "source": [
    "international_experiences = ['I have backpacked through Australia for half a year', 'I have traveled a lot with my family on vacations', 'I basically have none', 'I went to Germany once', 'My father has been relocated to a lot of different places because of his job. So I have lived in a lot of different countries.']\n",
    "\n",
    "previous_international_experience = [random.choice(international_experiences) for i in range(0, 1000)]"
   ]
  },
  {
   "cell_type": "code",
   "execution_count": 15,
   "id": "63bdcb45",
   "metadata": {},
   "outputs": [],
   "source": [
    "existing_languages = ['English', 'Dutch', 'German', 'Mandarin', 'Arabic', 'Japanese', 'Korean']\n",
    "\n",
    "student_languages = []\n",
    "for i in range(0, 1000):\n",
    "    if nationality[i] == 'Dutch' or nationality[i] == 'Belgium':\n",
    "        languages = ['Dutch', 'English']\n",
    "        if random.randint(0, 100) < 70:\n",
    "            languages.append(random.choice(existing_languages[2:]))\n",
    "    \n",
    "    elif nationality[i] == 'British' or nationality[i] == 'USA':\n",
    "        languages = ['English']\n",
    "        if random.randint(0, 100) < 40:\n",
    "            languages.append(random.choice(existing_languages[1:]))\n",
    "    \n",
    "    elif nationality[i] == 'German':\n",
    "        languages = ['English', 'German']\n",
    "    \n",
    "    elif nationality[i] == 'South-African':\n",
    "        languages = ['English', 'Dutch']\n",
    "        \n",
    "    elif nationality[i] == 'Chinese':\n",
    "        languages = ['English', 'Mandarin']\n",
    "        \n",
    "    elif nationality[i] == 'Japanese':\n",
    "        languages = ['English', 'Japanese']\n",
    "        \n",
    "    elif nationality[i] == 'Korean':\n",
    "        languages = ['English', 'Korean']\n",
    "        \n",
    "    student_languages.append(languages)"
   ]
  },
  {
   "cell_type": "code",
   "execution_count": 16,
   "id": "2e24d510",
   "metadata": {},
   "outputs": [],
   "source": [
    "data = {'Gender': genders,\n",
    "       'Age': age,\n",
    "       'Prior education': prior_educations,\n",
    "       'Course of studies': studies,\n",
    "       'Year of study': year_of_study,\n",
    "       'Nationality': nationality,\n",
    "       'Parent occupation': parent_occupations,\n",
    "       'Previous international experience': previous_international_experience,\n",
    "       'Languages': student_languages\n",
    "       }"
   ]
  },
  {
   "cell_type": "code",
   "execution_count": 17,
   "id": "38a75d44",
   "metadata": {},
   "outputs": [
    {
     "name": "stdout",
     "output_type": "stream",
     "text": [
      "   Gender  Age Prior education       Course of studies  Year of study  \\\n",
      "0  Female   18             VWO  International business              0   \n",
      "1  Female   21             VWO  International business              0   \n",
      "2    Male   17             VWO  International business              0   \n",
      "3    Male   20            HAVO  International business              0   \n",
      "4  Female   19            HAVO  International business              0   \n",
      "\n",
      "     Nationality Parent occupation  \\\n",
      "0         Korean          Engineer   \n",
      "1          Dutch        Life coach   \n",
      "2         Korean        Politician   \n",
      "3  South-African       Taxi driver   \n",
      "4        Belgium            Marine   \n",
      "\n",
      "                   Previous international experience                 Languages  \n",
      "0                             I went to Germany once         [English, Korean]  \n",
      "1  I have traveled a lot with my family on vacations  [Dutch, English, Arabic]  \n",
      "2                             I went to Germany once         [English, Korean]  \n",
      "3                             I went to Germany once          [English, Dutch]  \n",
      "4                             I went to Germany once          [Dutch, English]  \n"
     ]
    }
   ],
   "source": [
    "personal_attributes = pd.DataFrame(data)\n",
    "print(personal_attributes.head())"
   ]
  }
 ],
 "metadata": {
  "kernelspec": {
   "display_name": "Python 3",
   "language": "python",
   "name": "python3"
  },
  "language_info": {
   "codemirror_mode": {
    "name": "ipython",
    "version": 3
   },
   "file_extension": ".py",
   "mimetype": "text/x-python",
   "name": "python",
   "nbconvert_exporter": "python",
   "pygments_lexer": "ipython3",
   "version": "3.8.8"
  }
 },
 "nbformat": 4,
 "nbformat_minor": 5
}
