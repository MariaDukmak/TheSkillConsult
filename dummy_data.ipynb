{
 "cells": [
  {
   "cell_type": "code",
   "execution_count": 1,
   "id": "f1add05b",
   "metadata": {},
   "outputs": [],
   "source": [
    "import random\n",
    "import pandas as pd\n",
    "import numpy as np\n",
    "import matplotlib.pyplot as plt\n",
    "import random"
   ]
  },
  {
   "cell_type": "markdown",
   "id": "94742f42",
   "metadata": {},
   "source": [
    "# Make dataframe with intial test scores for 1000 students"
   ]
  },
  {
   "cell_type": "code",
   "execution_count": 2,
   "id": "1735c7f5",
   "metadata": {},
   "outputs": [],
   "source": [
    "# The amount of students we want to use for our DataFrames\n",
    "amount_of_students = 1000"
   ]
  },
  {
   "cell_type": "code",
   "execution_count": 3,
   "id": "d080aa4f",
   "metadata": {},
   "outputs": [],
   "source": [
    "# Create student ID's\n",
    "student_ids = []\n",
    "for student_number in range(amount_of_students):\n",
    "    student_ids.append(10000000 + student_number)"
   ]
  },
  {
   "cell_type": "code",
   "execution_count": 4,
   "id": "33203967",
   "metadata": {},
   "outputs": [],
   "source": [
    "# The average test score per skill according to: https://monitor.gmm.international/personal-report-en/overview-scores/?cohort=IBS+staff&measurement=1&reference=everybody\n",
    "medium_per_skill_1e = [5.68, 5.87, 5.5, 3.72, 3.14, 4.25, 5.25]"
   ]
  },
  {
   "cell_type": "code",
   "execution_count": 5,
   "id": "effbb001",
   "metadata": {},
   "outputs": [],
   "source": [
    "# Calculate for every student his test results for the first test\n",
    "column_info = []\n",
    "for skill in range(0, len(medium_per_skill_1e)):\n",
    "    mu = medium_per_skill_1e[skill]\n",
    "    sigma = 0.5\n",
    "\n",
    "    data = np.random.randn(amount_of_students) * sigma + mu\n",
    "    \n",
    "    for index in range(0, len(data)):\n",
    "        if data[index] > 7:\n",
    "            data[index] = 7\n",
    "        data[index] = round(data[index], 3)\n",
    "    \n",
    "    column_info.append(data)"
   ]
  },
  {
   "cell_type": "code",
   "execution_count": 6,
   "id": "002e0118",
   "metadata": {},
   "outputs": [],
   "source": [
    "# These are the skills we are going to be testing and generating\n",
    "skills = {\n",
    "    'openness': column_info[0],\n",
    "    'cultural_empathy': column_info[1],\n",
    "    'openmindness': column_info[2],\n",
    "    'adaptability': column_info[3],\n",
    "    'flexibility': column_info[4],\n",
    "    'emotional_stability': column_info[5],\n",
    "    'social_initiative': column_info[6]\n",
    "        }"
   ]
  },
  {
   "cell_type": "code",
   "execution_count": 7,
   "id": "07009eb7",
   "metadata": {},
   "outputs": [],
   "source": [
    "# Dictionary of student ID's\n",
    "ids = {'student_id': student_ids}"
   ]
  },
  {
   "cell_type": "code",
   "execution_count": 8,
   "id": "f2d512cb",
   "metadata": {},
   "outputs": [],
   "source": [
    "# Combine the two dictionaries into one\n",
    "data = {**ids, **skills}"
   ]
  },
  {
   "cell_type": "code",
   "execution_count": 9,
   "id": "3fee346e",
   "metadata": {},
   "outputs": [],
   "source": [
    "# Create DataFrame with student scores\n",
    "init_tests = pd.DataFrame(data)"
   ]
  },
  {
   "cell_type": "markdown",
   "id": "d0c791b0",
   "metadata": {},
   "source": [
    "# Make dataframe of personal information"
   ]
  },
  {
   "cell_type": "code",
   "execution_count": 10,
   "id": "824b6214",
   "metadata": {},
   "outputs": [],
   "source": [
    "# These are the attributes which a student can have\n",
    "attributes = ['Gender', 'Age', 'Prior education', 'Course of studies', 'Year of study', 'Nationality', 'First parent nationality', 'Second parent nationality', 'First parent occupation', 'Second parent occupation', 'Previous international experience', 'Languages']"
   ]
  },
  {
   "cell_type": "code",
   "execution_count": 11,
   "id": "5260abf5",
   "metadata": {},
   "outputs": [],
   "source": [
    "# These are the all the various options which an attribute can be\n",
    "all_genders = ['Male', 'Female', 'I would rather not say']\n",
    "ages = [17, 18, 19, 20, 21, 22, 23, 24]\n",
    "educations = ['MBO', 'HAVO', 'VWO', 'Gymnasium']\n",
    "studies = ['International business']\n",
    "study_years = [0, 1, 2, 3, 4]\n",
    "nationalities = ['Dutch', 'British', 'German', 'Belgium', 'USA', 'South-African', 'Chinese', 'Japanese', 'Korean', 'Spain']\n",
    "parent_one_nationalities = ['Dutch', 'British', 'German', 'Belgium', 'USA', 'South-African', 'Chinese', 'Japanese', 'Korean', 'Spain']\n",
    "parent_two_nationalities = ['Dutch', 'British', 'German', 'Belgium', 'USA', 'South-African', 'Chinese', 'Japanese', 'Korean', 'Spain']\n",
    "parent_one_occupations = ['Engineer', 'Marine', 'Politician', 'Life coach', 'Gardener', 'Taxi driver', 'Doctor', None]\n",
    "parent_two_occupations = ['Engineer', 'Marine', 'Politician', 'Life coach', 'Gardener', 'Taxi driver', 'Doctor', None]\n",
    "international_experiences = ['Gap year', 'Exchange student', 'Worked in a foreign country', 'Internship in a foreign country', None]\n",
    "existing_languages = ['English', 'Dutch', 'German', 'Mandarin', 'Japanese', 'Korean', 'Spanish']"
   ]
  },
  {
   "cell_type": "code",
   "execution_count": 12,
   "id": "8691ef3d",
   "metadata": {},
   "outputs": [],
   "source": [
    "# Assign a random option for every attribute for every student\n",
    "genders = []\n",
    "for i in range(0, amount_of_students):\n",
    "    if random.randint(0, 100) > 10:\n",
    "        genders.append(all_genders[-1])\n",
    "    else:\n",
    "        genders.append(random.choice(all_genders[:-1]))\n",
    "        \n",
    "age = [random.choice(ages) for i in range(0, amount_of_students)]\n",
    "prior_educations = [random.choice(educations) for i in range(0, amount_of_students)]\n",
    "student_studies = [random.choice(studies) for i in range(0, amount_of_students)]\n",
    "year_of_study = [random.choice(study_years) for i in range(0, amount_of_students)]\n",
    "nationality = [random.choice(nationalities) for i in range(0, amount_of_students)]\n",
    "parent_one_nationality = [random.choice(parent_one_nationalities) for i in range(0, amount_of_students)]\n",
    "parent_two_nationality = [random.choice(parent_two_nationalities) for i in range(0, amount_of_students)]\n",
    "parent_one_occupations = [random.choice(parent_one_occupations) for i in range(0, amount_of_students)]\n",
    "parent_two_occupations = [random.choice(parent_two_occupations) for i in range(0, amount_of_students)]\n",
    "previous_international_experience = [random.choice(international_experiences) for i in range(0, amount_of_students)]"
   ]
  },
  {
   "cell_type": "code",
   "execution_count": 13,
   "id": "b9b1a5b6",
   "metadata": {},
   "outputs": [],
   "source": [
    "\"\"\"\n",
    "Assign for every student (bases on his/her nationality) which language he/her can speak. I assume that every person can speak \n",
    "English. Because nowadays, almost every child will learn English beside their motherlanguage (or English is their \n",
    "motherlanguage) and I can't imagine someone coming to the Netherlands to study International Business here if he/she can't speak\n",
    "either Dutch or English. \n",
    "\n",
    "Also, based upon the information from this website: https://www.nationmaster.com/. I calculated the chance for a person to speak\n",
    "another language.\n",
    "\"\"\"\n",
    "\n",
    "student_languages = []\n",
    "for i in range(0, amount_of_students):\n",
    "    if nationality[i] == 'Dutch':\n",
    "        languages = ['Dutch', 'English']\n",
    "        if random.randint(0, 100) < 71:\n",
    "            languages.append('German')\n",
    "            \n",
    "        if random.randint(0, 100 < 29):\n",
    "            languages.append('French')\n",
    "    \n",
    "    elif nationality[i] == 'Belgium':\n",
    "        languages = ['English']\n",
    "        if random.randint(0, 100) < 52:\n",
    "            languages.append('English')\n",
    "        \n",
    "        if random.randint(0, 100) < 85:\n",
    "            languages.append('French')\n",
    "        \n",
    "        if random.randint(0, 100) < 22:\n",
    "            languages.append('German')\n",
    "        \n",
    "    elif nationality[i] == 'British':\n",
    "        languages = ['English']\n",
    "    \n",
    "    elif nationality[i] == 'USA':\n",
    "        languages = ['English']\n",
    "        \n",
    "        if random.randint(0, 100) < 22:\n",
    "            languages.append('Spanish')\n",
    "    \n",
    "    elif nationality[i] == 'Spain':\n",
    "        languages = ['English', 'Spanish']\n",
    "    \n",
    "    elif nationality[i] == 'German':\n",
    "        languages = ['English', 'German']\n",
    "        \n",
    "        if random.randint(0, 100) < 14:\n",
    "            languages.append('French')\n",
    "    \n",
    "    elif nationality[i] == 'South-African':\n",
    "        languages = ['Dutch', 'English']\n",
    "        \n",
    "    elif nationality[i] == 'Chinese':\n",
    "        languages = ['English', 'Mandarin']\n",
    "        \n",
    "    elif nationality[i] == 'Japanese':\n",
    "        languages = ['English', 'Japanese']\n",
    "        \n",
    "    elif nationality[i] == 'Korean':\n",
    "        languages = ['English', 'Korean']\n",
    "        \n",
    "    student_languages.append(languages)"
   ]
  },
  {
   "cell_type": "code",
   "execution_count": 14,
   "id": "48d31ddf",
   "metadata": {},
   "outputs": [],
   "source": [
    "# Create a dictionary with all student attributes (and student id)\n",
    "student_attributes = {\n",
    "    'student_id': student_ids,\n",
    "    'gender': genders,\n",
    "    'age': age,\n",
    "    'prior_education': prior_educations,\n",
    "    'course_of_studies': student_studies,\n",
    "    'year_of_study': year_of_study,\n",
    "    'nationality': nationality,\n",
    "    'parent_one_nationality' : parent_one_nationality,\n",
    "    'parent_two_nationality' : parent_two_nationality,\n",
    "    'parent_one_occupation': parent_one_occupations,\n",
    "    'parent_two_occupation': parent_two_occupations,\n",
    "    'previous_international_experience': previous_international_experience,\n",
    "    'languages': student_languages\n",
    "       }"
   ]
  },
  {
   "cell_type": "code",
   "execution_count": 15,
   "id": "b96d1b4b",
   "metadata": {},
   "outputs": [],
   "source": [
    "personal_attributes = pd.DataFrame(student_attributes)"
   ]
  },
  {
   "cell_type": "markdown",
   "id": "319cbe5c",
   "metadata": {},
   "source": [
    "# Dataframe for second test"
   ]
  },
  {
   "cell_type": "code",
   "execution_count": 16,
   "id": "f84e5bec",
   "metadata": {},
   "outputs": [],
   "source": [
    "# Create handy variables\n",
    "every_attribute = [all_genders, ages, educations, studies, study_years, nationalities, parent_one_nationalities, parent_two_nationalities, parent_one_occupations, parent_two_occupations, international_experiences, existing_languages]\n",
    "courses = ['A The world around you. About world citizenship (OA-MINBILDUN1-20)',\n",
    "           'B: Learning to live together (OA-MINBILDUN2-20)', \n",
    "           'C: Global inequality: The main challenge (OA-MINBILDUN3-20)', 'Coaching (APA-DL-COA-17)',\n",
    "           'Conflictcoaching en mediation (GHON-CM-20)', 'Cultural Differences (MC-ECULTDIF-21)', \n",
    "           'Fundamenten van de psychologie (OS-MINPSYCHC1-18)', 'Honours - Mindfulness voor professionals (OHON-MINDFUL-18)',\n",
    "           'Mensenrechten (GHON-MENSREC-20)', 'Mediation (APA-MARMED-19)']\n",
    "minimum_course_affinity = 1  # The 1 stand for 0% affinity\n",
    "maximum_course_affinity = 1.2  # The 1.2 stands for 20% affinity"
   ]
  },
  {
   "cell_type": "code",
   "execution_count": 17,
   "id": "b2c8436d",
   "metadata": {},
   "outputs": [],
   "source": [
    "# How much influence does every course have on every skill\n",
    "courses_affinities_on_skill = []\n",
    "for iz, z in enumerate(range(0, len(courses))):\n",
    "    course_affinity_on_skill = []\n",
    "    for x in range(0, len(skills)):\n",
    "        course_affinity_on_skill.append(random.uniform(minimum_course_affinity, maximum_course_affinity))\n",
    "    courses_affinities_on_skill.append(course_affinity_on_skill)"
   ]
  },
  {
   "cell_type": "code",
   "execution_count": 18,
   "id": "8afaeb75",
   "metadata": {},
   "outputs": [],
   "source": [
    "# Calculate how many options an attribute has\n",
    "length_attribute = []\n",
    "for attribute in every_attribute:\n",
    "    length_attribute.append(len(attribute))"
   ]
  },
  {
   "cell_type": "code",
   "execution_count": 19,
   "id": "1379ceed",
   "metadata": {},
   "outputs": [],
   "source": [
    "# Calculate how much influence different personal attributes has on every course\n",
    "attribute_influences_on_courses = []\n",
    "\n",
    "for course in range(0, len(courses)):  # For every course\n",
    "    attribute_influences_on_course = []\n",
    "    for attribute in range(0, len(attributes)):  # Look at the influence of every personal attribute on this course\n",
    "        number = length_attribute[attribute]\n",
    "        attribute_influence = np.random.uniform(0.95, 1.05, length_attribute[attribute])  # Every attribute has a max influence (negative or positive) of 5 percent\n",
    "        attribute_influences_on_course.append(attribute_influence)\n",
    "        \n",
    "    for attribute in range(0, len(courses)):  # We want to round every influence on the second decimal, we do that here\n",
    "        for attribute_influence in range(0, len(attribute_influences_on_course[attribute])):\n",
    "            attribute_influences_on_course[attribute][attribute_influence] = round(attribute_influences_on_course[attribute][attribute_influence], 3)\n",
    "    attribute_influences_on_courses.append(attribute_influences_on_course)"
   ]
  },
  {
   "cell_type": "code",
   "execution_count": 20,
   "id": "38c95c78",
   "metadata": {},
   "outputs": [],
   "source": [
    "# Empty dictionary with column names used for making the DataFrame\n",
    "skills_names = {'openness': [],\n",
    "    'cultural_empathy': [],\n",
    "    'openmindness': [],\n",
    "    'adaptability': [],\n",
    "    'flexibility': [],\n",
    "    'emotional_stability': [],\n",
    "    'social_initiative': []\n",
    "        }"
   ]
  },
  {
   "cell_type": "code",
   "execution_count": 21,
   "id": "8f18917a",
   "metadata": {},
   "outputs": [],
   "source": [
    "# Create a new empty DataFrame\n",
    "second_tests = pd.DataFrame(skills_names)"
   ]
  },
  {
   "cell_type": "code",
   "execution_count": 22,
   "id": "d9ce8b1c",
   "metadata": {},
   "outputs": [],
   "source": [
    "# Get the initial test results from the students\n",
    "init_values = init_tests.values.tolist()"
   ]
  },
  {
   "cell_type": "code",
   "execution_count": 23,
   "id": "58c94933",
   "metadata": {
    "scrolled": true
   },
   "outputs": [],
   "source": [
    "# Calculate the second test score of the student based upon his first test scores, his given course and his personal attributes\n",
    "for student in range(0, amount_of_students):  # For every student\n",
    "    student_data = []\n",
    "    \n",
    "    # Give the student a random course \n",
    "    random_course = random.randrange(0, len(courses))\n",
    "    course = courses[random_course]\n",
    "    \n",
    "    # Influence of attribute influence on this course\n",
    "    attribute_influences = attribute_influences_on_courses[random_course]\n",
    "    course_influences = courses_affinities_on_skill[random_course]\n",
    "    \n",
    "    # Student data from the InitTests dataset\n",
    "    personal_data = personal_attributes.loc[student].values.tolist()\n",
    "    \n",
    "    student_influences = []\n",
    "    \n",
    "    # Find the influence of a personal attribute on this course\n",
    "    for attribute in range(0, len(every_attribute) - 1):\n",
    "        influence = attribute_influences[attribute][every_attribute[attribute].index(personal_data[attribute + 1])]\n",
    "        student_influences.append(influence)\n",
    "    \n",
    "    # Calculate the influence of the amount of languages a student speaks on this course\n",
    "    student_influences.append(len(personal_data[-1]) * 2 / 100 + 1)\n",
    "    attributes_influence_on_course = np.prod(student_influences)\n",
    "    \n",
    "    # Calculate the influence of personal attributes on the course\n",
    "    courses_influence_on_skill = np.array(course_influences) * attributes_influence_on_course\n",
    "    \n",
    "    # Calculate the new score based upon the influence of the course and the personal attributes \n",
    "    new_score = []\n",
    "    \n",
    "    for skill in range(0, len(skills)):\n",
    "        first_score = float(init_values[student][skill + 1])\n",
    "        if courses_influence_on_skill[skill] > 0:\n",
    "            procentual_affection = courses_influence_on_skill[skill] - 1\n",
    "        else:\n",
    "            procentual_affection = 1 - courses_influence_on_skill[skill]\n",
    "        score = first_score + ((7 - first_score) * procentual_affection)\n",
    "        new_score.append(score)\n",
    "    \n",
    "    # Create a row of data for this student\n",
    "    new_data = {'student_id': student_ids[student],\n",
    "        'openness': new_score[0],\n",
    "        'cultural_empathy': new_score[1],\n",
    "        'openmindness': new_score[2],\n",
    "        'adaptability': new_score[3],\n",
    "        'flexibility': new_score[4],\n",
    "        'emotional_stability': new_score[5],\n",
    "        'social_initiative': new_score[6],\n",
    "        'course': course\n",
    "        }\n",
    "    \n",
    "    # Insert new row into the DataFrame    \n",
    "    second_tests = second_tests.append(new_data, ignore_index=True)"
   ]
  },
  {
   "cell_type": "markdown",
   "id": "3ac33bdf",
   "metadata": {},
   "source": [
    "# Convert data to CV"
   ]
  },
  {
   "cell_type": "code",
   "execution_count": 25,
   "id": "3826aa5c",
   "metadata": {
    "pycharm": {
     "name": "#%%\n"
    },
    "scrolled": false
   },
   "outputs": [],
   "source": [
    "# Fill in your own file location where you want the csv files to go\n",
    "init_tests.to_csv(\"csv/init_tests.csv\")\n",
    "personal_attributes.to_csv(\"csv/personal_attributes.csv\")\n",
    "second_tests.to_csv(\"csv/second_tests.csv\")"
   ]
  }
 ],
 "metadata": {
  "kernelspec": {
   "display_name": "Python 3 (ipykernel)",
   "language": "python",
   "name": "python3"
  },
  "language_info": {
   "codemirror_mode": {
    "name": "ipython",
    "version": 3
   },
   "file_extension": ".py",
   "mimetype": "text/x-python",
   "name": "python",
   "nbconvert_exporter": "python",
   "pygments_lexer": "ipython3",
   "version": "3.9.7"
  }
 },
 "nbformat": 4,
 "nbformat_minor": 5
}