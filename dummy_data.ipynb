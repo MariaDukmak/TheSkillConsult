{
 "cells": [
  {
   "cell_type": "code",
   "execution_count": 1,
   "id": "f1add05b",
   "metadata": {},
   "outputs": [],
   "source": [
    "import random\n",
    "import pandas as pd\n",
    "import numpy as np\n",
    "import matplotlib.pyplot as plt\n",
    "import random"
   ]
  },
  {
   "cell_type": "markdown",
   "id": "94742f42",
   "metadata": {},
   "source": [
    "# Make dataframe with intial test scores for 1000 students"
   ]
  },
  {
   "cell_type": "code",
   "execution_count": 2,
   "id": "aee0a8a9",
   "metadata": {},
   "outputs": [],
   "source": [
    "# The average test score per skill\n",
    "medium_per_skill_1e = [5.68, 5.87, 5.5, 3.72, 3.14, 4.25, 5.25]\n",
    "amount_of_students = 1000"
   ]
  },
  {
   "cell_type": "code",
   "execution_count": 3,
   "id": "d080aa4f",
   "metadata": {},
   "outputs": [],
   "source": [
    "# Create student ID's\n",
    "student_ids = []\n",
    "for student_number in range(0, amount_of_students):\n",
    "    student_ids.append(student_number)"
   ]
  },
  {
   "cell_type": "code",
   "execution_count": 4,
   "id": "effbb001",
   "metadata": {},
   "outputs": [],
   "source": [
    "# Calculate for every student his test results for the first test\n",
    "column_info = []\n",
    "for skill in range(0, len(medium_per_skill_1e)):\n",
    "    mu = medium_per_skill_1e[skill]\n",
    "    sigma = 0.5\n",
    "\n",
    "    data = np.random.randn(amount_of_students) * sigma + mu\n",
    "    \n",
    "    for index in range(0, len(data)):\n",
    "        if data[index] > 7:\n",
    "            data[index] = 7\n",
    "        data[index] = round(data[index], 3)\n",
    "    \n",
    "    column_info.append(data)"
   ]
  },
  {
   "cell_type": "code",
   "execution_count": 5,
   "id": "002e0118",
   "metadata": {},
   "outputs": [],
   "source": [
    "# These are the skills we are going to be testing and generating\n",
    "skills = {\n",
    "    'openness': column_info[0],\n",
    "    'cultural_empathy': column_info[1],\n",
    "    'openmindness': column_info[2],\n",
    "    'adaptability': column_info[3],\n",
    "    'flexibility': column_info[4],\n",
    "    'emotional_stability': column_info[5],\n",
    "    'social_initiative': column_info[6]\n",
    "        }"
   ]
  },
  {
   "cell_type": "code",
   "execution_count": 6,
   "id": "07009eb7",
   "metadata": {},
   "outputs": [],
   "source": [
    "# Dictionary of student ID's\n",
    "ids = {'student_id': student_ids}"
   ]
  },
  {
   "cell_type": "code",
   "execution_count": 7,
   "id": "f2d512cb",
   "metadata": {},
   "outputs": [],
   "source": [
    "# Combine the two dictionaries into one\n",
    "data = {**ids, **skills}"
   ]
  },
  {
   "cell_type": "code",
   "execution_count": 8,
   "id": "3fee346e",
   "metadata": {},
   "outputs": [],
   "source": [
    "# Create DataFrame with student scores\n",
    "init_tests = pd.DataFrame(data)"
   ]
  },
  {
   "cell_type": "markdown",
   "id": "d0c791b0",
   "metadata": {},
   "source": [
    "# Make dataframe of personal information"
   ]
  },
  {
   "cell_type": "code",
   "execution_count": 9,
   "id": "824b6214",
   "metadata": {},
   "outputs": [],
   "source": [
    "# These are the attributes which a student can have\n",
    "attributes = ['Gender', 'Age', 'Prior education', 'Course of studies', 'Year of study', 'Nationality', 'Parent occupation', 'Previous international experience', 'Languages']"
   ]
  },
  {
   "cell_type": "code",
   "execution_count": 10,
   "id": "5260abf5",
   "metadata": {},
   "outputs": [],
   "source": [
    "# These are the all the various options which an attribute can be\n",
    "all_genders = ['Male', 'Female', 'I would rather not say']\n",
    "ages = [17, 18, 19, 20, 21, 22, 23, 24]\n",
    "educations = ['MBO', 'HAVO', 'VWO', 'Gymnasium']\n",
    "studies = ['International business']\n",
    "study_years = [0, 1, 2, 3, 4]\n",
    "nationalities = ['Dutch', 'British', 'German', 'Belgium', 'USA', 'South-African', 'Chinese', 'Japanese', 'Korean', 'Spain']\n",
    "occupations = ['Engineer', 'Marine', 'Politician', 'Life coach', 'Gardener', 'Taxi driver', 'Doctor', None]\n",
    "international_experiences = ['Gap year', 'Exchange student', 'Worked in a foreign country', 'Internship in a foreign country']\n",
    "existing_languages = ['English', 'Dutch', 'German', 'Mandarin', 'Japanese', 'Korean', 'Spanish']"
   ]
  },
  {
   "cell_type": "code",
   "execution_count": 11,
   "id": "8691ef3d",
   "metadata": {},
   "outputs": [],
   "source": [
    "# Assign a random option for every attribute for every student\n",
    "genders = []\n",
    "for i in range(0, amount_of_students):\n",
    "    if random.randint(0, 100) > 10:\n",
    "        genders.append(all_genders[-1])\n",
    "    else:\n",
    "        genders.append(random.choice(all_genders[:-1]))\n",
    "        \n",
    "age = [random.choice(ages) for i in range(0, amount_of_students)]\n",
    "prior_educations = [random.choice(educations) for i in range(0, amount_of_students)]\n",
    "student_studies = [random.choice(studies) for i in range(0, amount_of_students)]\n",
    "year_of_study = [random.choice(study_years) for i in range(0, amount_of_students)]\n",
    "nationality = [random.choice(nationalities) for i in range(0, amount_of_students)]\n",
    "parent_occupations = [random.choice(occupations) for i in range(0, amount_of_students)]\n",
    "previous_international_experience = [random.choice(international_experiences) for i in range(0, amount_of_students)]"
   ]
  },
  {
   "cell_type": "code",
   "execution_count": 12,
   "id": "b9b1a5b6",
   "metadata": {},
   "outputs": [],
   "source": [
    "\"\"\"\n",
    "Assign for every student (bases on his/her nationality) which language he/her can speak. I assume that every person can speak \n",
    "English. Because nowadays, almost every child will learn English beside their motherlanguage (or English is their \n",
    "motherlanguage) and I can't imagine someone coming to the Netherlands to study International Business here if he/she can't speak\n",
    "either Dutch or English. \n",
    "\n",
    "Also, based upon the information from this website: https://www.nationmaster.com/. I calculated the chance for a person to speak\n",
    "another language.\n",
    "\"\"\"\n",
    "\n",
    "student_languages = []\n",
    "for i in range(0, amount_of_students):\n",
    "    if nationality[i] == 'Dutch':\n",
    "        languages = ['Dutch', 'English']\n",
    "        if random.randint(0, 100) < 71:\n",
    "            languages.append('German')\n",
    "            \n",
    "        if random.randint(0, 100 < 29):\n",
    "            languages.append('French')\n",
    "    \n",
    "    elif nationality[i] == 'Belgium':\n",
    "        languages = ['English']\n",
    "        if random.randint(0, 100) < 52:\n",
    "            languages.append('English')\n",
    "        \n",
    "        if random.randint(0, 100) < 85:\n",
    "            languages.append('French')\n",
    "        \n",
    "        if random.randint(0, 100) < 22:\n",
    "            languages.append('German')\n",
    "        \n",
    "    elif nationality[i] == 'British':\n",
    "        languages = ['English']\n",
    "    \n",
    "    elif nationality[i] == 'USA':\n",
    "        languages = ['English']\n",
    "        \n",
    "        if random.randint(0, 100) < 22:\n",
    "            languages.append('Spanish')\n",
    "    \n",
    "    elif nationality[i] == 'Spain':\n",
    "        languages = ['English', 'Spanish']\n",
    "    \n",
    "    elif nationality[i] == 'German':\n",
    "        languages = ['English', 'German']\n",
    "        \n",
    "        if random.randint(0, 100) < 14:\n",
    "            languages.append('French')\n",
    "    \n",
    "    elif nationality[i] == 'South-African':\n",
    "        languages = ['Dutch', 'English']\n",
    "        \n",
    "    elif nationality[i] == 'Chinese':\n",
    "        languages = ['English', 'Mandarin']\n",
    "        \n",
    "    elif nationality[i] == 'Japanese':\n",
    "        languages = ['English', 'Japanese']\n",
    "        \n",
    "    elif nationality[i] == 'Korean':\n",
    "        languages = ['English', 'Korean']\n",
    "        \n",
    "    student_languages.append(languages)"
   ]
  },
  {
   "cell_type": "code",
   "execution_count": 13,
   "id": "48d31ddf",
   "metadata": {},
   "outputs": [],
   "source": [
    "student_attributes = {'student_id': student_ids,\n",
    "    'gender': genders,\n",
    "    'age': age,\n",
    "    'prior_education': prior_educations,\n",
    "    'course_of_studies': student_studies,\n",
    "    'year_of_study': year_of_study,\n",
    "    'nationality': nationality,\n",
    "    'parent_occupation': parent_occupations,\n",
    "    'previous_international_experience': previous_international_experience,\n",
    "    'languages': student_languages\n",
    "       }"
   ]
  },
  {
   "cell_type": "code",
   "execution_count": 14,
   "id": "8384605a",
   "metadata": {},
   "outputs": [],
   "source": [
    "personal_attributes = pd.DataFrame(student_attributes)"
   ]
  },
  {
   "cell_type": "markdown",
   "id": "319cbe5c",
   "metadata": {},
   "source": [
    "# Dataframe for second test"
   ]
  },
  {
   "cell_type": "code",
   "execution_count": 15,
   "id": "f84e5bec",
   "metadata": {},
   "outputs": [],
   "source": [
    "every_variable = [all_genders, ages, educations, studies, study_years, nationalities, occupations, international_experiences, existing_languages]\n",
    "actions = ['CCCC', 'PCSA', 'Blogging', 'Language courses', 'International Classroom', 'International (guest) lecturers', 'IVC', 'Extra-curricular Courses', 'IE']"
   ]
  },
  {
   "cell_type": "code",
   "execution_count": 16,
   "id": "b2c8436d",
   "metadata": {},
   "outputs": [],
   "source": [
    "course_affinities_on_skill = []\n",
    "for iz, z in enumerate(range(0, len(actions))):\n",
    "    course_affinity = []\n",
    "    for x in range(0, len(skills)):\n",
    "        course_affinity.append(random.uniform(1, 1.2))\n",
    "    course_affinities_on_skill.append(course_affinity)"
   ]
  },
  {
   "cell_type": "code",
   "execution_count": 17,
   "id": "8afaeb75",
   "metadata": {},
   "outputs": [],
   "source": [
    "length = []\n",
    "for i in every_variable:\n",
    "    length.append(len(i))"
   ]
  },
  {
   "cell_type": "code",
   "execution_count": 18,
   "id": "1379ceed",
   "metadata": {},
   "outputs": [],
   "source": [
    "attribute_influences_on_actions = []\n",
    "\n",
    "for i in range(0, len(actions)):\n",
    "    attribute_influences_on_action = []\n",
    "    for j in range(0, len(attributes)):  \n",
    "        number = length[j]\n",
    "        action_influence = np.random.uniform(0.95, 1.05, length[j])\n",
    "        attribute_influences_on_action.append(action_influence)\n",
    "    for j in range(0, len(attribute_influences_on_action)):\n",
    "        for u in range(0, len(attribute_influences_on_action[j])):\n",
    "            attribute_influences_on_action[j][u] = round(attribute_influences_on_action[j][u], 3)\n",
    "    attribute_influences_on_actions.append(attribute_influences_on_action)"
   ]
  },
  {
   "cell_type": "markdown",
   "id": "e5847cce",
   "metadata": {},
   "source": [
    "En nu berekenen wat de studenten voor tweede score zouden krijgen"
   ]
  },
  {
   "cell_type": "code",
   "execution_count": 19,
   "id": "38c95c78",
   "metadata": {},
   "outputs": [],
   "source": [
    "skills_names = {'openness': [],\n",
    "    'cultural_empathy': [],\n",
    "    'openmindness': [],\n",
    "    'adaptability': [],\n",
    "    'flexibility': [],\n",
    "    'emotional_stability': [],\n",
    "    'social_initiative': []\n",
    "        }\n",
    "\n",
    "second_tests = pd.DataFrame(skills_names)"
   ]
  },
  {
   "cell_type": "code",
   "execution_count": 20,
   "id": "a52fb901",
   "metadata": {},
   "outputs": [],
   "source": [
    "init_values = init_tests.values.tolist()"
   ]
  },
  {
   "cell_type": "code",
   "execution_count": 21,
   "id": "58c94933",
   "metadata": {
    "scrolled": true
   },
   "outputs": [],
   "source": [
    "for i in range(0, amount_of_students):  # For every student\n",
    "    student_data = []\n",
    "    \n",
    "    # Give the student a random action \n",
    "    random_action = random.randrange(0, len(actions))\n",
    "    action = actions[random_action]\n",
    "    \n",
    "    # Influence of attribute influence on this action\n",
    "    attribute_influences = attribute_influences_on_actions[random_action]\n",
    "    course_influences = course_affinities_on_skill[random_action]\n",
    "    \n",
    "    # Student data from the InitTests dataset\n",
    "    personal_data = personal_attributes.loc[i].values.tolist()\n",
    "    \n",
    "    student_influences = []\n",
    "    \n",
    "    # Find the influence of a personal attribute on this action\n",
    "    for j in range(0, len(every_variable) - 1):\n",
    "        influence = attribute_influences[j][every_variable[j].index(personal_data[j + 1])]\n",
    "        student_influences.append(influence)\n",
    "    \n",
    "    # Calculate the influence of the amount of languages a student speaks on this action\n",
    "    student_influences.append(len(personal_data[-1]) * 2 / 100 + 1)\n",
    "    attributes_influence_on_action = np.prod(student_influences)\n",
    "\n",
    "    action_influence_on_skill = np.array(course_influences) * attributes_influence_on_action\n",
    "    new_score = []\n",
    "    \n",
    "    for j in range(0, len(skills)):\n",
    "        first_score = float(init_values[i][j+1])\n",
    "        if action_influence_on_skill[j] > 0:\n",
    "            procentual_affection = action_influence_on_skill[j] - 1\n",
    "        else:\n",
    "            procentual_affection = 1 - action_influence_on_skill[j]\n",
    "        score = first_score + ((7 - first_score) * procentual_affection)\n",
    "        new_score.append(score)\n",
    "        \n",
    "    new_data = {'student_id': student_ids[i],\n",
    "        'openness': new_score[0],\n",
    "        'cultural_empathy': new_score[1],\n",
    "        'openmindness': new_score[2],\n",
    "        'adaptability': new_score[3],\n",
    "        'flexibility': new_score[4],\n",
    "        'emotional_stability': new_score[5],\n",
    "        'social_initiative': new_score[6],\n",
    "        'action': action\n",
    "        }\n",
    "    \n",
    "    second_tests = second_tests.append(new_data, ignore_index=True)\n",
    "        \n",
    "    # init_values[i][j]"
   ]
  },
  {
   "cell_type": "markdown",
   "id": "3ac33bdf",
   "metadata": {},
   "source": [
    "# Convert data to CV"
   ]
  },
  {
   "cell_type": "code",
   "execution_count": 22,
   "id": "3826aa5c",
   "metadata": {
    "pycharm": {
     "name": "#%%\n"
    },
    "scrolled": false
   },
   "outputs": [],
   "source": [
    "# Fill in your own file location where you want the csv files to go\n",
    "init_tests.to_csv(\"csv/init_tests.csv\")\n",
    "personal_attributes.to_csv(\"csv/personal_attributes.csv\")\n",
    "second_tests.to_csv(\"csv/second_tests.csv\")"
   ]
  }
 ],
 "metadata": {
  "kernelspec": {
   "display_name": "Python 3",
   "language": "python",
   "name": "python3"
  },
  "language_info": {
   "codemirror_mode": {
    "name": "ipython",
    "version": 3
   },
   "file_extension": ".py",
   "mimetype": "text/x-python",
   "name": "python",
   "nbconvert_exporter": "python",
   "pygments_lexer": "ipython3",
   "version": "3.8.8"
  }
 },
 "nbformat": 4,
 "nbformat_minor": 5
}
