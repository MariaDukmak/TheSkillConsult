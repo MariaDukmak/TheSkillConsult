{
 "cells": [
  {
   "cell_type": "markdown",
   "id": "3194f765",
   "metadata": {},
   "source": [
    "## Data preprocessing for LightFM"
   ]
  },
  {
   "cell_type": "markdown",
   "id": "238c70e8",
   "metadata": {},
   "source": [
    "In this notebook we will create and test a recommendation engine which will recommend actions based upon how mu"
   ]
  },
  {
   "cell_type": "code",
   "execution_count": 128,
   "id": "47bacdc5",
   "metadata": {},
   "outputs": [],
   "source": [
    "import numpy as np\n",
    "import pandas as pd\n",
    "\n",
    "# we will ignore pandas warning \n",
    "import warnings\n",
    "warnings.filterwarnings('ignore')\n",
    "\n",
    "\n",
    "# Import sklearn\n",
    "from sklearn.model_selection import train_test_split\n",
    "from sklearn.linear_model import LinearRegression\n",
    "from sklearn.metrics import mean_squared_error\n",
    "from sklearn.metrics import r2_score"
   ]
  },
  {
   "cell_type": "code",
   "execution_count": 129,
   "id": "3fff994a",
   "metadata": {},
   "outputs": [],
   "source": [
    "# Read data, drop useless columns\n",
    "df_fst_tests = pd.read_csv(\"csv/init_tests.csv\").drop(\"Unnamed: 0\", axis= 'columns')\n",
    "df_snd_tests = pd.read_csv(\"csv/second_tests.csv\").drop(\"Unnamed: 0\", axis= 'columns')\n",
    "df_personal_attributes = pd.read_csv(\"csv/personal_attributes.csv\").drop(\"Unnamed: 0\", axis= 'columns')"
   ]
  },
  {
   "cell_type": "code",
   "execution_count": 130,
   "id": "f901f1c7",
   "metadata": {},
   "outputs": [],
   "source": [
    "# Create the user features\n",
    "user_features = df_personal_attributes\n",
    "for col in df_fst_tests.columns[1:]:\n",
    "    user_features[col] = df_fst_tests[col]\n",
    "user_features['action'] = df_snd_tests['action']"
   ]
  },
  {
   "cell_type": "code",
   "execution_count": 131,
   "id": "0d1c1d3b",
   "metadata": {},
   "outputs": [],
   "source": [
    "# Create the item features\n",
    "item_features = df_snd_tests\n",
    "item_features.drop('action', axis=1, inplace=True)"
   ]
  },
  {
   "cell_type": "code",
   "execution_count": 132,
   "id": "368a503e",
   "metadata": {},
   "outputs": [],
   "source": [
    "# Create the dummies variables so we can use our data for linear regression\n",
    "user_features = pd.get_dummies(user_features)"
   ]
  },
  {
   "cell_type": "markdown",
   "id": "1b2283da",
   "metadata": {},
   "source": [
    "# Linear Regression"
   ]
  },
  {
   "cell_type": "code",
   "execution_count": 133,
   "id": "4a40e76a",
   "metadata": {},
   "outputs": [],
   "source": [
    "# To begin training our linear regression model, we first need to sepperate it into train and test data\n",
    "\n",
    "x_train, x_test, y_train, y_test= train_test_split(user_features.values.tolist(), item_features.values.tolist(), random_state =16)"
   ]
  },
  {
   "cell_type": "code",
   "execution_count": 134,
   "id": "6f897588",
   "metadata": {},
   "outputs": [
    {
     "data": {
      "text/plain": [
       "LinearRegression()"
      ]
     },
     "execution_count": 134,
     "metadata": {},
     "output_type": "execute_result"
    }
   ],
   "source": [
    "# Make and train the model\n",
    "linreg = LinearRegression()\n",
    "linreg.fit(x_train, y_train)"
   ]
  },
  {
   "cell_type": "code",
   "execution_count": 175,
   "id": "62270049",
   "metadata": {},
   "outputs": [
    {
     "name": "stdout",
     "output_type": "stream",
     "text": [
      "RMSE: 0.1976129819412988\n",
      "Score: 0.8801846938979734\n"
     ]
    }
   ],
   "source": [
    "# Test our model to see how good it is\n",
    "model = linreg.predict(x_test)\n",
    "RMSE = np.sqrt(mean_squared_error(model, y_test))\n",
    "score = linreg.score(x_test, y_test)\n",
    "print(\"RMSE: \"+str(RMSE))\n",
    "print(\"Score: \"+str(score))"
   ]
  },
  {
   "cell_type": "code",
   "execution_count": 176,
   "id": "e6cc9cba",
   "metadata": {},
   "outputs": [],
   "source": [
    "def create_actions(row, unique_actions):\n",
    "    \"\"\"Create actions for the user. But it will be erased if he already has one.\"\"\"\n",
    "    for col in unique_actions:\n",
    "        row[f'action_{col}'] = 0\n",
    "    return row"
   ]
  },
  {
   "cell_type": "code",
   "execution_count": 177,
   "id": "f45fae85",
   "metadata": {},
   "outputs": [],
   "source": [
    "def predict_scores(row, unique_actions, linreg):\n",
    "    \"\"\"Predict how good each action will score for the user.\"\"\"\n",
    "    all_actions = []\n",
    "    for col in unique_actions:\n",
    "        row[f'action_{col}'] = 1\n",
    "        pred = linreg.predict([row.values.tolist()])\n",
    "        all_actions.append(pred)\n",
    "        row[f'action_{col}'] = 0\n",
    "    return all_actions"
   ]
  },
  {
   "cell_type": "code",
   "execution_count": 182,
   "id": "2acd29da",
   "metadata": {},
   "outputs": [],
   "source": [
    "def find_best_actions(all_actions, unique_actions):\n",
    "    \"\"\"Find the best actions the user can take in order to have the biggest predicted growth.\"\"\"\n",
    "    best_scores = [sum(scores[0]) for scores in all_actions]\n",
    "    indices = unique_actions[np.argmax(best_scores)]\n",
    "    return indices"
   ]
  },
  {
   "cell_type": "code",
   "execution_count": 183,
   "id": "f8019509",
   "metadata": {},
   "outputs": [],
   "source": [
    "def worst_skill_index(row, skills):\n",
    "    \"\"\"Find the index of the worst skill of the user.\"\"\"\n",
    "    skills_measure = []\n",
    "    for col in skills:\n",
    "        skills_measure.append(row[col])\n",
    "    return np.argmin(skills_measure)"
   ]
  },
  {
   "cell_type": "code",
   "execution_count": 184,
   "id": "40afae09",
   "metadata": {},
   "outputs": [],
   "source": [
    "def best_action_for_worst_skill(row, skills, effect_actions, unique_actions):\n",
    "    \"\"\"Find the action that will help the users worst skill to improve most.\"\"\"\n",
    "    skill_index = worst_skill_index(row, skills)\n",
    "    worst_skill_score = row[skills[skill_index]]\n",
    "    \n",
    "    best_improvement = []\n",
    "    for action in effect_actions:\n",
    "        best_improvement.append(action[0][skill_index] - worst_skill_score)\n",
    "    \n",
    "    return unique_actions[np.argmax(best_improvement)]"
   ]
  },
  {
   "cell_type": "code",
   "execution_count": 187,
   "id": "2639e608",
   "metadata": {},
   "outputs": [],
   "source": [
    "def recommend_action(linreg, unique_actions, row, skills):\n",
    "    \"\"\"The recommendation model. It will return the action a user can take to improve the most overall or the action which will\n",
    "    improve the users worst skill most.\"\"\"\n",
    "    row = create_actions(row, unique_actions)  # Create empty actions\n",
    "    effect_actions = predict_scores(row, unique_actions, linreg)  # Predict how much influence every action will have on the user\n",
    "    \n",
    "    most_effective_actions = find_best_actions(effect_actions, unique_actions)\n",
    "    \n",
    "    worst_skill_improvement_action = best_action_for_worst_skill(row, skills, effect_actions, unique_actions)\n",
    "    \n",
    "    return [most_effective_actions, worst_skill_improvement_action]"
   ]
  },
  {
   "cell_type": "code",
   "execution_count": 188,
   "id": "59314952",
   "metadata": {},
   "outputs": [
    {
     "data": {
      "text/plain": [
       "['Extra-curricular Courses', 'Extra-curricular Courses']"
      ]
     },
     "execution_count": 188,
     "metadata": {},
     "output_type": "execute_result"
    }
   ],
   "source": [
    "linreg = linreg\n",
    "unique_actions = df['action'].unique()\n",
    "row = user_features.loc[1]\n",
    "skills = ['openness', 'cultural_empathy', 'openmindness', 'adaptability',  'flexibility', 'emotional_stability', \n",
    "          'social_initiative']\n",
    "\n",
    "recommend_action(linreg, unique_actions, row, skills)"
   ]
  },
  {
   "cell_type": "code",
   "execution_count": null,
   "id": "dac90382",
   "metadata": {},
   "outputs": [],
   "source": []
  }
 ],
 "metadata": {
  "kernelspec": {
   "display_name": "Python 3 (ipykernel)",
   "language": "python",
   "name": "python3"
  },
  "language_info": {
   "codemirror_mode": {
    "name": "ipython",
    "version": 3
   },
   "file_extension": ".py",
   "mimetype": "text/x-python",
   "name": "python",
   "nbconvert_exporter": "python",
   "pygments_lexer": "ipython3",
   "version": "3.9.7"
  }
 },
 "nbformat": 4,
 "nbformat_minor": 5
}