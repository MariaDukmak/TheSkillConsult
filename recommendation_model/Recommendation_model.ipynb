{
 "cells": [
  {
   "cell_type": "markdown",
   "id": "3194f765",
   "metadata": {},
   "source": [
    "## Data preprocessing for LightFM"
   ]
  },
  {
   "cell_type": "markdown",
   "id": "238c70e8",
   "metadata": {},
   "source": [
    "In this notebook we will create and test a recommendation engine which will recommend courses based upon how mu"
   ]
  },
  {
   "cell_type": "code",
   "execution_count": 1,
   "id": "47bacdc5",
   "metadata": {},
   "outputs": [],
   "source": [
    "import numpy as np\n",
    "import pandas as pd\n",
    "\n",
    "# We will ignore pandas warning \n",
    "import warnings\n",
    "warnings.filterwarnings('ignore')\n",
    "\n",
    "# Import sklearn\n",
    "from sklearn.model_selection import train_test_split\n",
    "from sklearn.linear_model import LinearRegression\n",
    "from sklearn.metrics import mean_squared_error\n",
    "from sklearn.metrics import mean_absolute_error\n",
    "from sklearn.metrics import r2_score\n",
    "\n",
    "# Import the recommendation model\n",
    "from python_recommender_files.recommender import recommend_course"
   ]
  },
  {
   "cell_type": "code",
   "execution_count": 2,
   "id": "3fff994a",
   "metadata": {},
   "outputs": [],
   "source": [
    "# Read data, drop useless columns\n",
    "df_fst_tests = pd.read_csv(\"csv/init_tests.csv\").drop(\"Unnamed: 0\", axis= 'columns')\n",
    "df_snd_tests = pd.read_csv(\"csv/second_tests.csv\").drop(\"Unnamed: 0\", axis= 'columns')\n",
    "df_personal_attributes = pd.read_csv(\"csv/personal_attributes.csv\").drop(\"Unnamed: 0\", axis= 'columns')"
   ]
  },
  {
   "cell_type": "code",
   "execution_count": 3,
   "id": "f901f1c7",
   "metadata": {},
   "outputs": [],
   "source": [
    "# Create the user features\n",
    "df_user_features = df_personal_attributes\n",
    "for col in df_fst_tests.columns[1:]:\n",
    "    df_user_features[col] = df_fst_tests[col]\n",
    "df_user_features['course'] = df_snd_tests['course']"
   ]
  },
  {
   "cell_type": "code",
   "execution_count": 5,
   "id": "0d1c1d3b",
   "metadata": {},
   "outputs": [],
   "source": [
    "# Create the item features\n",
    "item_features = df_snd_tests\n",
    "item_features.drop('course', axis=1, inplace=True)"
   ]
  },
  {
   "cell_type": "code",
   "execution_count": 6,
   "id": "368a503e",
   "metadata": {},
   "outputs": [],
   "source": [
    "# Create the dummies variables so we can use our data for linear regression\n",
    "user_features = pd.get_dummies(df_user_features)"
   ]
  },
  {
   "cell_type": "markdown",
   "id": "1b2283da",
   "metadata": {},
   "source": [
    "# Linear Regression"
   ]
  },
  {
   "cell_type": "code",
   "execution_count": 7,
   "id": "4a40e76a",
   "metadata": {},
   "outputs": [],
   "source": [
    "# To begin training our linear regression model, we first need to sepperate it into train and test data\n",
    "\n",
    "x_train, x_test, y_train, y_test= train_test_split(user_features.values.tolist(), item_features.values.tolist(), random_state =16)"
   ]
  },
  {
   "cell_type": "code",
   "execution_count": 8,
   "id": "6f897588",
   "metadata": {},
   "outputs": [
    {
     "data": {
      "text/plain": [
       "LinearRegression()"
      ]
     },
     "execution_count": 8,
     "metadata": {},
     "output_type": "execute_result"
    }
   ],
   "source": [
    "# Make and train the model\n",
    "linreg = LinearRegression()\n",
    "linreg.fit(x_train, y_train)"
   ]
  },
  {
   "cell_type": "code",
   "execution_count": 9,
   "id": "62270049",
   "metadata": {},
   "outputs": [
    {
     "name": "stdout",
     "output_type": "stream",
     "text": [
      "Mean squared error: 0.21828550733818408\n",
      "Score: 0.8497538795267328\n"
     ]
    }
   ],
   "source": [
    "# Test our model to see how good it is\n",
    "model = linreg.predict(x_test)\n",
    "RMSE = np.sqrt(mean_squared_error(model, y_test))\n",
    "score = linreg.score(x_test, y_test)\n",
    "print(\"Mean squared error: \"+str(RMSE))\n",
    "print(\"Score: \"+str(score))"
   ]
  },
  {
   "cell_type": "code",
   "execution_count": 10,
   "id": "59314952",
   "metadata": {},
   "outputs": [
    {
     "data": {
      "text/plain": [
       "['Basics of psychology', 'Basics of psychology']"
      ]
     },
     "execution_count": 10,
     "metadata": {},
     "output_type": "execute_result"
    }
   ],
   "source": [
    "linreg = linreg\n",
    "unique_courses = df_user_features['course'].unique()\n",
    "row = user_features.loc[1]\n",
    "skills = ['openness', 'cultural_empathy', 'openmindness', 'adaptability',  'flexibility', 'emotional_stability', \n",
    "          'social_initiative']\n",
    "\n",
    "recommend_course(linreg, unique_courses, row, skills)"
   ]
  }
 ],
 "metadata": {
  "kernelspec": {
   "display_name": "Python 3 (ipykernel)",
   "language": "python",
   "name": "python3"
  },
  "language_info": {
   "codemirror_mode": {
    "name": "ipython",
    "version": 3
   },
   "file_extension": ".py",
   "mimetype": "text/x-python",
   "name": "python",
   "nbconvert_exporter": "python",
   "pygments_lexer": "ipython3",
   "version": "3.9.7"
  }
 },
 "nbformat": 4,
 "nbformat_minor": 5
}