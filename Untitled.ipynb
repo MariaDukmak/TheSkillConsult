{
 "cells": [
  {
   "cell_type": "code",
   "execution_count": 19,
   "id": "09e46897",
   "metadata": {},
   "outputs": [],
   "source": [
    "import pandas as pd\n",
    "import numpy as np\n",
    "import matplotlib.pyplot as plt\n",
    "import random"
   ]
  },
  {
   "cell_type": "code",
   "execution_count": 39,
   "id": "754ffb34",
   "metadata": {},
   "outputs": [],
   "source": [
    "medium_per_skill_1e = [5.85, 5.62, 5.3, 4.28, 3.33, 4.5, 5.3, 4.3, 4.8]\n",
    "\n",
    "column_info = []"
   ]
  },
  {
   "cell_type": "code",
   "execution_count": 40,
   "id": "2ad1792e",
   "metadata": {},
   "outputs": [],
   "source": [
    "for skill in range(0, len(medium_per_skill_1e)):\n",
    "    mu = medium_per_skill_1e[skill]\n",
    "    sigma = 0.5\n",
    "\n",
    "    data = np.random.randn(1000) * sigma + mu\n",
    "    \n",
    "    column_info.append(data)\n",
    "    "
   ]
  },
  {
   "cell_type": "code",
   "execution_count": 22,
   "id": "42c55915",
   "metadata": {},
   "outputs": [
    {
     "ename": "ValueError",
     "evalue": "10 columns passed, passed data had 1000 columns",
     "output_type": "error",
     "traceback": [
      "\u001b[1;31m---------------------------------------------------------------------------\u001b[0m",
      "\u001b[1;31mAssertionError\u001b[0m                            Traceback (most recent call last)",
      "\u001b[1;32m~\\anaconda3\\lib\\site-packages\\pandas\\core\\internals\\construction.py\u001b[0m in \u001b[0;36m_list_to_arrays\u001b[1;34m(data, columns, coerce_float, dtype)\u001b[0m\n\u001b[0;32m    567\u001b[0m     \u001b[1;32mtry\u001b[0m\u001b[1;33m:\u001b[0m\u001b[1;33m\u001b[0m\u001b[1;33m\u001b[0m\u001b[0m\n\u001b[1;32m--> 568\u001b[1;33m         \u001b[0mcolumns\u001b[0m \u001b[1;33m=\u001b[0m \u001b[0m_validate_or_indexify_columns\u001b[0m\u001b[1;33m(\u001b[0m\u001b[0mcontent\u001b[0m\u001b[1;33m,\u001b[0m \u001b[0mcolumns\u001b[0m\u001b[1;33m)\u001b[0m\u001b[1;33m\u001b[0m\u001b[1;33m\u001b[0m\u001b[0m\n\u001b[0m\u001b[0;32m    569\u001b[0m         \u001b[0mresult\u001b[0m \u001b[1;33m=\u001b[0m \u001b[0m_convert_object_array\u001b[0m\u001b[1;33m(\u001b[0m\u001b[0mcontent\u001b[0m\u001b[1;33m,\u001b[0m \u001b[0mdtype\u001b[0m\u001b[1;33m=\u001b[0m\u001b[0mdtype\u001b[0m\u001b[1;33m,\u001b[0m \u001b[0mcoerce_float\u001b[0m\u001b[1;33m=\u001b[0m\u001b[0mcoerce_float\u001b[0m\u001b[1;33m)\u001b[0m\u001b[1;33m\u001b[0m\u001b[1;33m\u001b[0m\u001b[0m\n",
      "\u001b[1;32m~\\anaconda3\\lib\\site-packages\\pandas\\core\\internals\\construction.py\u001b[0m in \u001b[0;36m_validate_or_indexify_columns\u001b[1;34m(content, columns)\u001b[0m\n\u001b[0;32m    691\u001b[0m             \u001b[1;31m# caller's responsibility to check for this...\u001b[0m\u001b[1;33m\u001b[0m\u001b[1;33m\u001b[0m\u001b[1;33m\u001b[0m\u001b[0m\n\u001b[1;32m--> 692\u001b[1;33m             raise AssertionError(\n\u001b[0m\u001b[0;32m    693\u001b[0m                 \u001b[1;34mf\"{len(columns)} columns passed, passed data had \"\u001b[0m\u001b[1;33m\u001b[0m\u001b[1;33m\u001b[0m\u001b[0m\n",
      "\u001b[1;31mAssertionError\u001b[0m: 10 columns passed, passed data had 1000 columns",
      "\nThe above exception was the direct cause of the following exception:\n",
      "\u001b[1;31mValueError\u001b[0m                                Traceback (most recent call last)",
      "\u001b[1;32m<ipython-input-22-b00d9fb53c4c>\u001b[0m in \u001b[0;36m<module>\u001b[1;34m\u001b[0m\n\u001b[0;32m     11\u001b[0m         }\n\u001b[0;32m     12\u001b[0m \u001b[1;33m\u001b[0m\u001b[0m\n\u001b[1;32m---> 13\u001b[1;33m \u001b[0mdf\u001b[0m \u001b[1;33m=\u001b[0m \u001b[0mpd\u001b[0m\u001b[1;33m.\u001b[0m\u001b[0mDataFrame\u001b[0m\u001b[1;33m(\u001b[0m\u001b[0mcolumns\u001b[0m\u001b[1;33m=\u001b[0m\u001b[0mcolumns\u001b[0m\u001b[1;33m,\u001b[0m \u001b[0mdata\u001b[0m\u001b[1;33m=\u001b[0m\u001b[0mcolumn_info\u001b[0m\u001b[1;33m)\u001b[0m\u001b[1;33m\u001b[0m\u001b[1;33m\u001b[0m\u001b[0m\n\u001b[0m\u001b[0;32m     14\u001b[0m \u001b[1;33m\u001b[0m\u001b[0m\n\u001b[0;32m     15\u001b[0m \u001b[0mprint\u001b[0m \u001b[1;33m(\u001b[0m\u001b[0mdf\u001b[0m\u001b[1;33m)\u001b[0m\u001b[1;33m\u001b[0m\u001b[1;33m\u001b[0m\u001b[0m\n",
      "\u001b[1;32m~\\anaconda3\\lib\\site-packages\\pandas\\core\\frame.py\u001b[0m in \u001b[0;36m__init__\u001b[1;34m(self, data, index, columns, dtype, copy)\u001b[0m\n\u001b[0;32m    568\u001b[0m                     \u001b[1;32mif\u001b[0m \u001b[0mis_named_tuple\u001b[0m\u001b[1;33m(\u001b[0m\u001b[0mdata\u001b[0m\u001b[1;33m[\u001b[0m\u001b[1;36m0\u001b[0m\u001b[1;33m]\u001b[0m\u001b[1;33m)\u001b[0m \u001b[1;32mand\u001b[0m \u001b[0mcolumns\u001b[0m \u001b[1;32mis\u001b[0m \u001b[1;32mNone\u001b[0m\u001b[1;33m:\u001b[0m\u001b[1;33m\u001b[0m\u001b[1;33m\u001b[0m\u001b[0m\n\u001b[0;32m    569\u001b[0m                         \u001b[0mcolumns\u001b[0m \u001b[1;33m=\u001b[0m \u001b[0mdata\u001b[0m\u001b[1;33m[\u001b[0m\u001b[1;36m0\u001b[0m\u001b[1;33m]\u001b[0m\u001b[1;33m.\u001b[0m\u001b[0m_fields\u001b[0m\u001b[1;33m\u001b[0m\u001b[1;33m\u001b[0m\u001b[0m\n\u001b[1;32m--> 570\u001b[1;33m                     \u001b[0marrays\u001b[0m\u001b[1;33m,\u001b[0m \u001b[0mcolumns\u001b[0m \u001b[1;33m=\u001b[0m \u001b[0mto_arrays\u001b[0m\u001b[1;33m(\u001b[0m\u001b[0mdata\u001b[0m\u001b[1;33m,\u001b[0m \u001b[0mcolumns\u001b[0m\u001b[1;33m,\u001b[0m \u001b[0mdtype\u001b[0m\u001b[1;33m=\u001b[0m\u001b[0mdtype\u001b[0m\u001b[1;33m)\u001b[0m\u001b[1;33m\u001b[0m\u001b[1;33m\u001b[0m\u001b[0m\n\u001b[0m\u001b[0;32m    571\u001b[0m                     \u001b[0mcolumns\u001b[0m \u001b[1;33m=\u001b[0m \u001b[0mensure_index\u001b[0m\u001b[1;33m(\u001b[0m\u001b[0mcolumns\u001b[0m\u001b[1;33m)\u001b[0m\u001b[1;33m\u001b[0m\u001b[1;33m\u001b[0m\u001b[0m\n\u001b[0;32m    572\u001b[0m \u001b[1;33m\u001b[0m\u001b[0m\n",
      "\u001b[1;32m~\\anaconda3\\lib\\site-packages\\pandas\\core\\internals\\construction.py\u001b[0m in \u001b[0;36mto_arrays\u001b[1;34m(data, columns, coerce_float, dtype)\u001b[0m\n\u001b[0;32m    550\u001b[0m         \u001b[1;31m# last ditch effort\u001b[0m\u001b[1;33m\u001b[0m\u001b[1;33m\u001b[0m\u001b[1;33m\u001b[0m\u001b[0m\n\u001b[0;32m    551\u001b[0m         \u001b[0mdata\u001b[0m \u001b[1;33m=\u001b[0m \u001b[1;33m[\u001b[0m\u001b[0mtuple\u001b[0m\u001b[1;33m(\u001b[0m\u001b[0mx\u001b[0m\u001b[1;33m)\u001b[0m \u001b[1;32mfor\u001b[0m \u001b[0mx\u001b[0m \u001b[1;32min\u001b[0m \u001b[0mdata\u001b[0m\u001b[1;33m]\u001b[0m\u001b[1;33m\u001b[0m\u001b[1;33m\u001b[0m\u001b[0m\n\u001b[1;32m--> 552\u001b[1;33m         \u001b[1;32mreturn\u001b[0m \u001b[0m_list_to_arrays\u001b[0m\u001b[1;33m(\u001b[0m\u001b[0mdata\u001b[0m\u001b[1;33m,\u001b[0m \u001b[0mcolumns\u001b[0m\u001b[1;33m,\u001b[0m \u001b[0mcoerce_float\u001b[0m\u001b[1;33m=\u001b[0m\u001b[0mcoerce_float\u001b[0m\u001b[1;33m,\u001b[0m \u001b[0mdtype\u001b[0m\u001b[1;33m=\u001b[0m\u001b[0mdtype\u001b[0m\u001b[1;33m)\u001b[0m\u001b[1;33m\u001b[0m\u001b[1;33m\u001b[0m\u001b[0m\n\u001b[0m\u001b[0;32m    553\u001b[0m \u001b[1;33m\u001b[0m\u001b[0m\n\u001b[0;32m    554\u001b[0m \u001b[1;33m\u001b[0m\u001b[0m\n",
      "\u001b[1;32m~\\anaconda3\\lib\\site-packages\\pandas\\core\\internals\\construction.py\u001b[0m in \u001b[0;36m_list_to_arrays\u001b[1;34m(data, columns, coerce_float, dtype)\u001b[0m\n\u001b[0;32m    569\u001b[0m         \u001b[0mresult\u001b[0m \u001b[1;33m=\u001b[0m \u001b[0m_convert_object_array\u001b[0m\u001b[1;33m(\u001b[0m\u001b[0mcontent\u001b[0m\u001b[1;33m,\u001b[0m \u001b[0mdtype\u001b[0m\u001b[1;33m=\u001b[0m\u001b[0mdtype\u001b[0m\u001b[1;33m,\u001b[0m \u001b[0mcoerce_float\u001b[0m\u001b[1;33m=\u001b[0m\u001b[0mcoerce_float\u001b[0m\u001b[1;33m)\u001b[0m\u001b[1;33m\u001b[0m\u001b[1;33m\u001b[0m\u001b[0m\n\u001b[0;32m    570\u001b[0m     \u001b[1;32mexcept\u001b[0m \u001b[0mAssertionError\u001b[0m \u001b[1;32mas\u001b[0m \u001b[0me\u001b[0m\u001b[1;33m:\u001b[0m\u001b[1;33m\u001b[0m\u001b[1;33m\u001b[0m\u001b[0m\n\u001b[1;32m--> 571\u001b[1;33m         \u001b[1;32mraise\u001b[0m \u001b[0mValueError\u001b[0m\u001b[1;33m(\u001b[0m\u001b[0me\u001b[0m\u001b[1;33m)\u001b[0m \u001b[1;32mfrom\u001b[0m \u001b[0me\u001b[0m\u001b[1;33m\u001b[0m\u001b[1;33m\u001b[0m\u001b[0m\n\u001b[0m\u001b[0;32m    572\u001b[0m     \u001b[1;32mreturn\u001b[0m \u001b[0mresult\u001b[0m\u001b[1;33m,\u001b[0m \u001b[0mcolumns\u001b[0m\u001b[1;33m\u001b[0m\u001b[1;33m\u001b[0m\u001b[0m\n\u001b[0;32m    573\u001b[0m \u001b[1;33m\u001b[0m\u001b[0m\n",
      "\u001b[1;31mValueError\u001b[0m: 10 columns passed, passed data had 1000 columns"
     ]
    }
   ],
   "source": [
    "columns = {'Cultural empathy first',\n",
    "        'Open-mindedness first',\n",
    "        'Social initiative first',\n",
    "        'Emotional stability first',\n",
    "        'Flexibility first',\n",
    "        'Cultural empathy second',\n",
    "        'Open-mindedness second',\n",
    "        'Social initiative second',\n",
    "        'Emotional stability second',\n",
    "        'Flexibility second'\n",
    "        }\n",
    "\n",
    "df = pd.DataFrame(columns=columns, data=column_info)\n",
    "\n",
    "print (df)"
   ]
  },
  {
   "cell_type": "code",
   "execution_count": 41,
   "id": "77ff8f09",
   "metadata": {},
   "outputs": [],
   "source": [
    "skills = {'Cultural Empathy': column_info[0], 'Open Mindedness': column_info[1], 'Flexibility': column_info[2], 'Social Initative': column_info[3], 'Emotional Stability': column_info[4], '(Meta) Cognition': column_info[5], 'Behaviour': column_info[6], 'Attitude': column_info[7], 'Language Skills': column_info[8]}"
   ]
  },
  {
   "cell_type": "code",
   "execution_count": 42,
   "id": "6418c5d4",
   "metadata": {},
   "outputs": [],
   "source": [
    "df2 = pd.DataFrame(skills)"
   ]
  },
  {
   "cell_type": "code",
   "execution_count": 43,
   "id": "0b8de247",
   "metadata": {},
   "outputs": [
    {
     "name": "stdout",
     "output_type": "stream",
     "text": [
      "     Cultural Empathy  Open Mindedness  Flexibility  Social Initative  \\\n",
      "0            6.095919         5.484784     4.598383          3.474124   \n",
      "1            5.686882         5.751291     4.710089          4.591476   \n",
      "2            5.701116         5.379056     6.123510          4.815400   \n",
      "3            6.098848         6.293898     4.873535          5.239658   \n",
      "4            5.624346         4.936964     4.616914          4.742589   \n",
      "..                ...              ...          ...               ...   \n",
      "995          6.625601         6.101463     5.813642          4.662661   \n",
      "996          5.918432         5.596387     5.617524          3.933828   \n",
      "997          6.535448         5.896823     6.106732          4.129342   \n",
      "998          5.029052         4.741349     5.650208          3.950798   \n",
      "999          6.112464         5.004011     5.558921          4.932887   \n",
      "\n",
      "     Emotional Stability  (Meta) Cognition  Behaviour  Attitude  \\\n",
      "0               2.523903          4.653447   5.429932  4.232308   \n",
      "1               2.565089          4.360686   4.623525  3.812153   \n",
      "2               3.981349          4.485000   5.135138  4.013858   \n",
      "3               3.128930          4.106970   4.619130  4.042045   \n",
      "4               2.893866          4.529769   4.514945  4.497354   \n",
      "..                   ...               ...        ...       ...   \n",
      "995             3.173998          4.602468   5.547750  3.916992   \n",
      "996             3.591759          4.101839   6.153550  4.598620   \n",
      "997             3.568002          3.907062   6.095084  3.900885   \n",
      "998             3.633175          4.238752   4.411202  4.186629   \n",
      "999             3.927760          5.208954   4.772004  3.782944   \n",
      "\n",
      "     Language Skills  \n",
      "0           4.540702  \n",
      "1           5.170980  \n",
      "2           4.144668  \n",
      "3           4.913967  \n",
      "4           4.889284  \n",
      "..               ...  \n",
      "995         5.520520  \n",
      "996         4.512446  \n",
      "997         4.589728  \n",
      "998         4.456164  \n",
      "999         4.327902  \n",
      "\n",
      "[1000 rows x 9 columns]\n"
     ]
    }
   ],
   "source": [
    "print(df2)"
   ]
  },
  {
   "cell_type": "code",
   "execution_count": 51,
   "id": "4992a7b0",
   "metadata": {},
   "outputs": [
    {
     "data": {
      "text/html": [
       "<div>\n",
       "<style scoped>\n",
       "    .dataframe tbody tr th:only-of-type {\n",
       "        vertical-align: middle;\n",
       "    }\n",
       "\n",
       "    .dataframe tbody tr th {\n",
       "        vertical-align: top;\n",
       "    }\n",
       "\n",
       "    .dataframe thead th {\n",
       "        text-align: right;\n",
       "    }\n",
       "</style>\n",
       "<table border=\"1\" class=\"dataframe\">\n",
       "  <thead>\n",
       "    <tr style=\"text-align: right;\">\n",
       "      <th></th>\n",
       "      <th>Cultural empathy first</th>\n",
       "      <th>Open Mindedness</th>\n",
       "      <th>Flexibility</th>\n",
       "      <th>Emotional Stability</th>\n",
       "      <th>Social Initiative</th>\n",
       "      <th>Meta Cognition</th>\n",
       "      <th>Behaviour</th>\n",
       "      <th>Attitude</th>\n",
       "      <th>Language Skills</th>\n",
       "    </tr>\n",
       "  </thead>\n",
       "  <tbody>\n",
       "    <tr>\n",
       "      <th>0</th>\n",
       "      <td>5</td>\n",
       "      <td>5</td>\n",
       "      <td>5</td>\n",
       "      <td>5</td>\n",
       "      <td>5</td>\n",
       "      <td>5</td>\n",
       "      <td>5</td>\n",
       "      <td>5</td>\n",
       "      <td>5</td>\n",
       "    </tr>\n",
       "  </tbody>\n",
       "</table>\n",
       "</div>"
      ],
      "text/plain": [
       "   Cultural empathy first  Open Mindedness  Flexibility  Emotional Stability  \\\n",
       "0                       5                5            5                    5   \n",
       "\n",
       "   Social Initiative  Meta Cognition  Behaviour  Attitude  Language Skills  \n",
       "0                  5               5          5         5                5  "
      ]
     },
     "execution_count": 51,
     "metadata": {},
     "output_type": "execute_result"
    }
   ],
   "source": [
    "actions = ['CCCC', 'PCSA', 'Blogging', 'Language courses', 'International Classroom', 'International (guest) lecturers', 'IVC', 'Extra-curricular Courses', 'IE']\n",
    "affinity_per_skill = [0.3, 0.3, 0.4, 0.2, 0.2, 0.3, 0.25, 0.3, 0.3]\n"
   ]
  },
  {
   "cell_type": "code",
   "execution_count": 86,
   "id": "15962bd0",
   "metadata": {},
   "outputs": [
    {
     "data": {
      "text/html": [
       "<div>\n",
       "<style scoped>\n",
       "    .dataframe tbody tr th:only-of-type {\n",
       "        vertical-align: middle;\n",
       "    }\n",
       "\n",
       "    .dataframe tbody tr th {\n",
       "        vertical-align: top;\n",
       "    }\n",
       "\n",
       "    .dataframe thead th {\n",
       "        text-align: right;\n",
       "    }\n",
       "</style>\n",
       "<table border=\"1\" class=\"dataframe\">\n",
       "  <thead>\n",
       "    <tr style=\"text-align: right;\">\n",
       "      <th></th>\n",
       "      <th>Cultural empathy first</th>\n",
       "      <th>Open Mindedness</th>\n",
       "      <th>Flexibility</th>\n",
       "      <th>Emotional Stability</th>\n",
       "      <th>Social Initiative</th>\n",
       "      <th>Meta Cognition</th>\n",
       "      <th>Behaviour</th>\n",
       "      <th>Attitude</th>\n",
       "      <th>Language Skills</th>\n",
       "    </tr>\n",
       "  </thead>\n",
       "  <tbody>\n",
       "    <tr>\n",
       "      <th>0</th>\n",
       "      <td>5</td>\n",
       "      <td>5</td>\n",
       "      <td>5</td>\n",
       "      <td>5</td>\n",
       "      <td>5</td>\n",
       "      <td>5</td>\n",
       "      <td>5</td>\n",
       "      <td>5</td>\n",
       "      <td>5</td>\n",
       "    </tr>\n",
       "  </tbody>\n",
       "</table>\n",
       "</div>"
      ],
      "text/plain": [
       "   Cultural empathy first  Open Mindedness  Flexibility  Emotional Stability  \\\n",
       "0                       5                5            5                    5   \n",
       "\n",
       "   Social Initiative  Meta Cognition  Behaviour  Attitude  Language Skills  \n",
       "0                  5               5          5         5                5  "
      ]
     },
     "execution_count": 86,
     "metadata": {},
     "output_type": "execute_result"
    }
   ],
   "source": [
    "skills = [[5,5,5,5,5,5,5,5,5]]\n",
    "student_skills = pd.DataFrame(skills, columns=courses)\n",
    "student_skills"
   ]
  },
  {
   "cell_type": "code",
   "execution_count": 93,
   "id": "beee12ef",
   "metadata": {},
   "outputs": [],
   "source": [
    "skills = ['Cultural empathy first', 'Open Mindedness', 'Flexibility', 'Emotional Stability', 'Social Initiative', 'Meta Cognition', 'Behaviour', 'Attitude', 'Language Skills']"
   ]
  },
  {
   "cell_type": "code",
   "execution_count": 88,
   "id": "10dace8d",
   "metadata": {},
   "outputs": [
    {
     "name": "stdout",
     "output_type": "stream",
     "text": [
      "[[16.848875808006976, 14.106605596873683, 19.665551147435746, 12.140224935550265, 4.640647939894034, 5.543915414771005, 4.959304026828808, 18.353402628715962, 6.27067055644601], [6.714466908058851, 3.261455128174342, 12.112725734253393, 9.568505724952864, 10.008455825581468, 5.04939497507049, 19.834290224986248, 14.13865808461102, 2.134052811537841], [19.7028869928449, 19.86611686067468, 2.340724704191306, 15.249415749766914, 13.189919911999528, 7.657542430174697, 2.1646158475998223, 1.2659946108829523, 5.471894607648434], [18.680659554147702, 16.595460755193933, 6.052722159825659, 15.712899363937892, 18.54619686535079, 14.175407287764408, 12.01940062125188, 1.501542484792755, 2.9314372174442083], [13.04078955177783, 5.2628476402892215, 4.232762687052032, 13.904276099715233, 15.361530337335603, 14.578854040661284, 8.07895255007767, 5.71138618456732, 17.308387390511342], [16.76780893157903, 5.140701903782931, 8.344075688049507, 1.1077381446084966, 5.702424891187043, 13.647183847461484, 1.592292199513563, 2.6488390843267107, 8.316450170770675], [5.735772685700519, 15.761456248581837, 7.277244764204072, 1.0212297693654926, 17.38544808504099, 4.2423197119811, 12.533301269553942, 19.685345316882433, 5.700667467222013], [15.56672354142293, 18.41105610847875, 19.19360438692251, 18.099208141487416, 2.75263472891057, 18.99757421433644, 10.957964759715189, 13.791005356880554, 14.174471560763225], [6.059607837930809, 7.120412617300826, 11.488470188221598, 10.26762591979728, 5.034137849918365, 17.57261498720538, 4.532357797895954, 14.563355598714327, 12.102353606452194], [18.755194816424385, 11.156153190635836, 6.190715090927341, 11.410068900956256, 15.027741332758772, 6.200347151992325, 8.160880365869883, 17.85687047479959, 14.932477204214198], [18.663909804524547, 17.984965173762962, 12.85086688290161, 0.023795389446230608, 1.5372084769762084, 16.441868151174173, 7.8626278197884725, 4.677517216186207, 14.388993171652062], [8.095685332985811, 11.391776740433388, 1.9281140777494943, 12.29854752090965, 8.317282482113438, 1.8855167775495207, 16.499737590700235, 4.369951550890637, 16.521800921537682], [8.836303006122005, 0.6449981907512203, 2.0927768132073, 1.1966089682939063, 6.342670946267576, 14.10480685545451, 16.747792856243727, 16.82487184630926, 1.370410082112179], [5.71047407971621, 6.637446844601231, 1.8629840208686188, 12.040281850447895, 16.012202775742367, 19.340410783695262, 11.095228097550262, 6.043447686926678, 19.281423841889243], [15.704889952735998, 1.2977675078406636, 14.897463064136613, 16.902887526082942, 9.527145703916656, 7.50344189855314, 9.983455286720877, 3.2951557556850175, 1.582628359827054], [16.956318962257363, 5.028424862536913, 14.900584315000183, 12.055810108866227, 10.782710224326557, 1.4407860460673882, 18.662826958032163, 3.7284016031564216, 3.11015791141384], [9.764128252142179, 9.19346026125244, 5.922616418440598, 17.75579926786046, 12.581762606112951, 10.564579409072879, 17.4641569470467, 19.031429692697923, 6.230490750316891], [10.95017399975999, 12.866905816636972, 14.991731497002167, 15.344000630212957, 8.504792988158021, 2.3267601168603425, 2.3602332486795485, 12.602477562135128, 16.302680012062375], [3.0376694338981336, 1.9163838973846414, 11.499641334496044, 12.296981206950903, 11.673073780395342, 16.647745719065504, 14.40382313784827, 14.149388206628393, 9.668704762282164], [18.46221062975119, 15.962813388023552, 3.210000820100487, 2.0867876214862147, 10.84169654118474, 9.721173741237873, 3.037564509458608, 7.656815917866826, 13.17717514351928], [16.661285122351018, 1.379175096259444, 15.178468284644818, 18.63295096248675, 16.073171150091756, 11.088405234337692, 19.012751144354482, 1.2507976208693616, 8.498230313456599], [9.417901393370197, 0.9428706151569055, 18.678296363265442, 11.736018363759692, 19.644675425181976, 11.934343159923467, 3.193757206355776, 5.32606785728232, 7.660938398767579]]\n"
     ]
    }
   ],
   "source": [
    "course_affinities = []\n",
    "for iz, z in enumerate(range(0, len(skills[0]))):\n",
    "    course_affinities.append([])\n",
    "    for x in range(0,len(courses)):\n",
    "        course_affinities[iz].append(random.uniform(0,20))\n",
    "\n",
    "print(course_affinities)"
   ]
  },
  {
   "cell_type": "code",
   "execution_count": 89,
   "id": "d264fa5c",
   "metadata": {},
   "outputs": [],
   "source": [
    "def metric(skills):\n",
    "    return sum(skills)"
   ]
  },
  {
   "cell_type": "code",
   "execution_count": 96,
   "id": "7222d195",
   "metadata": {},
   "outputs": [
    {
     "data": {
      "text/plain": [
       "['Cultural empathy first',\n",
       " 'Open Mindedness',\n",
       " 'Flexibility',\n",
       " 'Emotional Stability',\n",
       " 'Social Initiative',\n",
       " 'Meta Cognition',\n",
       " 'Behaviour',\n",
       " 'Attitude',\n",
       " 'Language Skills']"
      ]
     },
     "execution_count": 96,
     "metadata": {},
     "output_type": "execute_result"
    }
   ],
   "source": [
    "courses"
   ]
  },
  {
   "cell_type": "code",
   "execution_count": 98,
   "id": "ed69c9ef",
   "metadata": {
    "scrolled": false
   },
   "outputs": [
    {
     "name": "stdout",
     "output_type": "stream",
     "text": [
      "Cultural empathy first 5\n",
      "5.842443790400349\n",
      "Cultural empathy first 5\n",
      "5.842443790400349\n",
      "Cultural empathy first 5\n",
      "5.842443790400349\n",
      "Cultural empathy first 5\n",
      "5.842443790400349\n",
      "Cultural empathy first 5\n",
      "5.842443790400349\n",
      "Cultural empathy first 5\n",
      "5.842443790400349\n",
      "Cultural empathy first 5\n",
      "5.842443790400349\n",
      "Cultural empathy first 5\n",
      "5.842443790400349\n",
      "Cultural empathy first 5\n",
      "5.842443790400349\n",
      "Open Mindedness 5\n",
      "5.335723345402943\n",
      "Open Mindedness 5\n",
      "5.335723345402943\n",
      "Open Mindedness 5\n",
      "5.335723345402943\n",
      "Open Mindedness 5\n",
      "5.335723345402943\n",
      "Open Mindedness 5\n",
      "5.335723345402943\n",
      "Open Mindedness 5\n",
      "5.335723345402943\n",
      "Open Mindedness 5\n",
      "5.335723345402943\n",
      "Open Mindedness 5\n",
      "5.335723345402943\n",
      "Open Mindedness 5\n",
      "5.335723345402943\n",
      "Flexibility 5\n",
      "5.985144349642245\n",
      "Flexibility 5\n",
      "5.985144349642245\n",
      "Flexibility 5\n",
      "5.985144349642245\n",
      "Flexibility 5\n",
      "5.985144349642245\n",
      "Flexibility 5\n",
      "5.985144349642245\n",
      "Flexibility 5\n",
      "5.985144349642245\n",
      "Flexibility 5\n",
      "5.985144349642245\n",
      "Flexibility 5\n",
      "5.985144349642245\n",
      "Flexibility 5\n",
      "5.985144349642245\n",
      "Emotional Stability 5\n",
      "5.9340329777073855\n",
      "Emotional Stability 5\n",
      "5.9340329777073855\n",
      "Emotional Stability 5\n",
      "5.9340329777073855\n",
      "Emotional Stability 5\n",
      "5.9340329777073855\n",
      "Emotional Stability 5\n",
      "5.9340329777073855\n",
      "Emotional Stability 5\n",
      "5.9340329777073855\n",
      "Emotional Stability 5\n",
      "5.9340329777073855\n",
      "Emotional Stability 5\n",
      "5.9340329777073855\n",
      "Emotional Stability 5\n",
      "5.9340329777073855\n",
      "Social Initiative 5\n",
      "5.652039477588891\n",
      "Social Initiative 5\n",
      "5.652039477588891\n",
      "Social Initiative 5\n",
      "5.652039477588891\n",
      "Social Initiative 5\n",
      "5.652039477588891\n",
      "Social Initiative 5\n",
      "5.652039477588891\n",
      "Social Initiative 5\n",
      "5.652039477588891\n",
      "Social Initiative 5\n",
      "5.652039477588891\n",
      "Social Initiative 5\n",
      "5.652039477588891\n",
      "Social Initiative 5\n",
      "5.652039477588891\n",
      "Meta Cognition 5\n",
      "5.838390446578952\n",
      "Meta Cognition 5\n",
      "5.838390446578952\n",
      "Meta Cognition 5\n",
      "5.838390446578952\n",
      "Meta Cognition 5\n",
      "5.838390446578952\n",
      "Meta Cognition 5\n",
      "5.838390446578952\n",
      "Meta Cognition 5\n",
      "5.838390446578952\n",
      "Meta Cognition 5\n",
      "5.838390446578952\n",
      "Meta Cognition 5\n",
      "5.838390446578952\n",
      "Meta Cognition 5\n",
      "5.838390446578952\n",
      "Behaviour 5\n",
      "5.286788634285026\n",
      "Behaviour 5\n",
      "5.286788634285026\n",
      "Behaviour 5\n",
      "5.286788634285026\n",
      "Behaviour 5\n",
      "5.286788634285026\n",
      "Behaviour 5\n",
      "5.286788634285026\n",
      "Behaviour 5\n",
      "5.286788634285026\n",
      "Behaviour 5\n",
      "5.286788634285026\n",
      "Behaviour 5\n",
      "5.286788634285026\n",
      "Behaviour 5\n",
      "5.286788634285026\n",
      "Attitude 5\n",
      "5.7783361770711466\n",
      "Attitude 5\n",
      "5.7783361770711466\n",
      "Attitude 5\n",
      "5.7783361770711466\n",
      "Attitude 5\n",
      "5.7783361770711466\n",
      "Attitude 5\n",
      "5.7783361770711466\n",
      "Attitude 5\n",
      "5.7783361770711466\n",
      "Attitude 5\n",
      "5.7783361770711466\n",
      "Attitude 5\n",
      "5.7783361770711466\n",
      "Attitude 5\n",
      "5.7783361770711466\n",
      "Language Skills 5\n",
      "5.30298039189654\n",
      "Language Skills 5\n",
      "5.30298039189654\n",
      "Language Skills 5\n",
      "5.30298039189654\n",
      "Language Skills 5\n",
      "5.30298039189654\n",
      "Language Skills 5\n",
      "5.30298039189654\n",
      "Language Skills 5\n",
      "5.30298039189654\n",
      "Language Skills 5\n",
      "5.30298039189654\n",
      "Language Skills 5\n",
      "5.30298039189654\n",
      "Language Skills 5\n",
      "5.30298039189654\n"
     ]
    }
   ],
   "source": [
    "for index, row in student_skills.iterrows():\n",
    "    skills = row.values\n",
    "    init_score = metric(skills)\n",
    "    \n",
    "    for i, action in enumerate(courses):\n",
    "        for skill_i, skill in enumerate(skills):\n",
    "            print(action, skill)\n",
    "            affinity = course_affinities[i][index]\n",
    "\n",
    "            skill_increase = (10 - skills[i]) * (1 + (affinity / 100))\n",
    "            print(skill_increase)"
   ]
  },
  {
   "cell_type": "code",
   "execution_count": 91,
   "id": "8566d1c0",
   "metadata": {},
   "outputs": [
    {
     "ename": "IndexError",
     "evalue": "list index out of range",
     "output_type": "error",
     "traceback": [
      "\u001b[1;31m---------------------------------------------------------------------------\u001b[0m",
      "\u001b[1;31mIndexError\u001b[0m                                Traceback (most recent call last)",
      "\u001b[1;32m<ipython-input-91-cc2780e56389>\u001b[0m in \u001b[0;36m<module>\u001b[1;34m\u001b[0m\n\u001b[1;32m----> 1\u001b[1;33m \u001b[0mskills_2e_meting\u001b[0m \u001b[1;33m=\u001b[0m \u001b[1;33m{\u001b[0m\u001b[1;34m'Cultural Empathy'\u001b[0m\u001b[1;33m:\u001b[0m \u001b[0maffinity_per_student\u001b[0m\u001b[1;33m[\u001b[0m\u001b[1;36m0\u001b[0m\u001b[1;33m]\u001b[0m\u001b[1;33m,\u001b[0m \u001b[1;34m'Open Mindedness'\u001b[0m\u001b[1;33m:\u001b[0m \u001b[0maffinity_per_student\u001b[0m\u001b[1;33m[\u001b[0m\u001b[1;36m1\u001b[0m\u001b[1;33m]\u001b[0m\u001b[1;33m,\u001b[0m \u001b[1;34m'Flexibility'\u001b[0m\u001b[1;33m:\u001b[0m \u001b[0maffinity_per_student\u001b[0m\u001b[1;33m[\u001b[0m\u001b[1;36m2\u001b[0m\u001b[1;33m]\u001b[0m\u001b[1;33m,\u001b[0m \u001b[1;34m'Social Initative'\u001b[0m\u001b[1;33m:\u001b[0m \u001b[0maffinity_per_student\u001b[0m\u001b[1;33m[\u001b[0m\u001b[1;36m3\u001b[0m\u001b[1;33m]\u001b[0m\u001b[1;33m,\u001b[0m \u001b[1;34m'Emotional Stability'\u001b[0m\u001b[1;33m:\u001b[0m \u001b[0maffinity_per_student\u001b[0m\u001b[1;33m[\u001b[0m\u001b[1;36m4\u001b[0m\u001b[1;33m]\u001b[0m\u001b[1;33m,\u001b[0m \u001b[1;34m'(Meta) Cognition'\u001b[0m\u001b[1;33m:\u001b[0m \u001b[0maffinity_per_student\u001b[0m\u001b[1;33m[\u001b[0m\u001b[1;36m5\u001b[0m\u001b[1;33m]\u001b[0m\u001b[1;33m,\u001b[0m \u001b[1;34m'Behaviour'\u001b[0m\u001b[1;33m:\u001b[0m \u001b[0maffinity_per_student\u001b[0m\u001b[1;33m[\u001b[0m\u001b[1;36m6\u001b[0m\u001b[1;33m]\u001b[0m\u001b[1;33m,\u001b[0m \u001b[1;34m'Attitude'\u001b[0m\u001b[1;33m:\u001b[0m \u001b[0maffinity_per_student\u001b[0m\u001b[1;33m[\u001b[0m\u001b[1;36m7\u001b[0m\u001b[1;33m]\u001b[0m\u001b[1;33m,\u001b[0m \u001b[1;34m'Language Skills'\u001b[0m\u001b[1;33m:\u001b[0m \u001b[0maffinity_per_student\u001b[0m\u001b[1;33m[\u001b[0m\u001b[1;36m8\u001b[0m\u001b[1;33m]\u001b[0m\u001b[1;33m}\u001b[0m\u001b[1;33m\u001b[0m\u001b[1;33m\u001b[0m\u001b[0m\n\u001b[0m",
      "\u001b[1;31mIndexError\u001b[0m: list index out of range"
     ]
    }
   ],
   "source": [
    "skills_2e_meting = {'Cultural Empathy': affinity_per_student[0], 'Open Mindedness': affinity_per_student[1], 'Flexibility': affinity_per_student[2], 'Social Initative': affinity_per_student[3], 'Emotional Stability': affinity_per_student[4], '(Meta) Cognition': affinity_per_student[5], 'Behaviour': affinity_per_student[6], 'Attitude': affinity_per_student[7], 'Language Skills': affinity_per_student[8]}"
   ]
  },
  {
   "cell_type": "code",
   "execution_count": null,
   "id": "fcfa5c50",
   "metadata": {},
   "outputs": [],
   "source": []
  },
  {
   "cell_type": "code",
   "execution_count": null,
   "id": "f53b97e7",
   "metadata": {},
   "outputs": [],
   "source": []
  }
 ],
 "metadata": {
  "kernelspec": {
   "display_name": "Python 3",
   "language": "python",
   "name": "python3"
  },
  "language_info": {
   "codemirror_mode": {
    "name": "ipython",
    "version": 3
   },
   "file_extension": ".py",
   "mimetype": "text/x-python",
   "name": "python",
   "nbconvert_exporter": "python",
   "pygments_lexer": "ipython3",
   "version": "3.8.8"
  }
 },
 "nbformat": 4,
 "nbformat_minor": 5
}
